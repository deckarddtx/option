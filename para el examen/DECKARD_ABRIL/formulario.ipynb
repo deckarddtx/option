{
 "cells": [
  {
   "cell_type": "code",
   "execution_count": null,
   "id": "519ebf40",
   "metadata": {},
   "outputs": [],
   "source": [
    "abrir xlxs"
   ]
  },
  {
   "cell_type": "code",
   "execution_count": null,
   "id": "8d8d7197",
   "metadata": {},
   "outputs": [],
   "source": [
    "import pandas as pd\n",
    "excel= \"/ruta\"\n",
    "imprimir = pd.read_excel(excel)\n",
    "print(imprimir)\n"
   ]
  },
  {
   "cell_type": "code",
   "execution_count": null,
   "id": "e04cbc37",
   "metadata": {},
   "outputs": [],
   "source": [
    "dataframe"
   ]
  },
  {
   "cell_type": "code",
   "execution_count": null,
   "id": "0a0b7648",
   "metadata": {},
   "outputs": [],
   "source": [
    "df=pd.DataFrame(imprimir)"
   ]
  },
  {
   "cell_type": "code",
   "execution_count": null,
   "id": "4bd8901c",
   "metadata": {},
   "outputs": [],
   "source": [
    "mostrar valores"
   ]
  },
  {
   "cell_type": "code",
   "execution_count": null,
   "id": "b28fbc89",
   "metadata": {},
   "outputs": [],
   "source": [
    "ciudades=df['city'].value_counts().reset_index()\n",
    "ciudades.columns=['city','count']"
   ]
  },
  {
   "cell_type": "code",
   "execution_count": null,
   "id": "23e063e1",
   "metadata": {},
   "outputs": [],
   "source": [
    "top ciudades"
   ]
  },
  {
   "cell_type": "code",
   "execution_count": null,
   "id": "d9bd5c18",
   "metadata": {},
   "outputs": [],
   "source": [
    "topten=ciudades.nlargest(10,'count')"
   ]
  },
  {
   "cell_type": "code",
   "execution_count": null,
   "id": "cd70dfa2",
   "metadata": {},
   "outputs": [],
   "source": [
    "ordenar"
   ]
  },
  {
   "cell_type": "code",
   "execution_count": null,
   "id": "b474c429",
   "metadata": {},
   "outputs": [],
   "source": [
    "topten_short=topten.sort_values(by='count',ascending=True)"
   ]
  },
  {
   "cell_type": "code",
   "execution_count": null,
   "id": "82cc9216",
   "metadata": {},
   "outputs": [],
   "source": [
    "import plotly.express as px"
   ]
  },
  {
   "cell_type": "code",
   "execution_count": null,
   "id": "26856dc0",
   "metadata": {},
   "outputs": [],
   "source": [
    "grafico de barras"
   ]
  },
  {
   "cell_type": "code",
   "execution_count": null,
   "id": "2c6d06ae",
   "metadata": {},
   "outputs": [],
   "source": [
    "fig=px.bar(topten_short,x='city',y='count',orientation='v')\n",
    "fig.show()"
   ]
  },
  {
   "cell_type": "code",
   "execution_count": null,
   "id": "9b1bc7eb",
   "metadata": {},
   "outputs": [],
   "source": [
    "dash\n"
   ]
  },
  {
   "cell_type": "code",
   "execution_count": null,
   "id": "a24da63c",
   "metadata": {},
   "outputs": [],
   "source": [
    "from dash import dash,dcc,html"
   ]
  },
  {
   "cell_type": "code",
   "execution_count": null,
   "id": "91c488ce",
   "metadata": {},
   "outputs": [],
   "source": [
    "app=dash.Dash(__name__)"
   ]
  },
  {
   "cell_type": "code",
   "execution_count": null,
   "id": "922fc00a",
   "metadata": {},
   "outputs": [],
   "source": [
    "app.layout=html.Div([\n",
    "    dcc.Graph(id='cheetah_bar_chart', figure=fig)\n",
    "])"
   ]
  },
  {
   "cell_type": "code",
   "execution_count": null,
   "id": "8c6f357f",
   "metadata": {},
   "outputs": [],
   "source": [
    "if __name__ == '__main__':\n",
    "    app.run_server(debug=True, use_reloader=False)"
   ]
  },
  {
   "cell_type": "code",
   "execution_count": null,
   "id": "b7726626",
   "metadata": {},
   "outputs": [],
   "source": []
  },
  {
   "cell_type": "code",
   "execution_count": null,
   "id": "5312fde8",
   "metadata": {},
   "outputs": [],
   "source": [
    "verificar si hay datos nulos"
   ]
  },
  {
   "cell_type": "code",
   "execution_count": null,
   "id": "6cb3355f",
   "metadata": {},
   "outputs": [],
   "source": [
    "df.isnull()"
   ]
  },
  {
   "cell_type": "code",
   "execution_count": null,
   "id": "1b47f469",
   "metadata": {},
   "outputs": [],
   "source": [
    "sumar los datos que tienen null"
   ]
  },
  {
   "cell_type": "code",
   "execution_count": null,
   "id": "c6495c43",
   "metadata": {},
   "outputs": [],
   "source": [
    "df.isnull().sum()"
   ]
  },
  {
   "cell_type": "code",
   "execution_count": null,
   "id": "9d96fb63",
   "metadata": {},
   "outputs": [],
   "source": [
    "rellenar los valores perdidos con otros valores usando df.fillna(x)  reemplaza con x,"
   ]
  },
  {
   "cell_type": "code",
   "execution_count": null,
   "id": "5003d5f5",
   "metadata": {},
   "outputs": [],
   "source": [
    "df.fillna(0)"
   ]
  },
  {
   "cell_type": "code",
   "execution_count": null,
   "id": "b66e1575",
   "metadata": {},
   "outputs": [],
   "source": [
    "asignamos el resultado al DataFrame a un nuevo df"
   ]
  },
  {
   "cell_type": "code",
   "execution_count": null,
   "id": "85c9da07",
   "metadata": {},
   "outputs": [],
   "source": [
    "dfinal=df.fillna(5)"
   ]
  },
  {
   "cell_type": "code",
   "execution_count": null,
   "id": "edea49c1",
   "metadata": {},
   "outputs": [],
   "source": [
    "nuevodf.head(20)"
   ]
  },
  {
   "cell_type": "code",
   "execution_count": null,
   "id": "0a88e778",
   "metadata": {},
   "outputs": [],
   "source": [
    "nuevodf.to_csv('data/final.csv')"
   ]
  },
  {
   "cell_type": "code",
   "execution_count": null,
   "id": "c5869f46",
   "metadata": {},
   "outputs": [],
   "source": [
    "#Cantidad de Filas\n",
    "len(df)"
   ]
  },
  {
   "cell_type": "code",
   "execution_count": null,
   "id": "4df01bd3",
   "metadata": {},
   "outputs": [],
   "source": [
    "#Cantidad de Filas y Columnas\n",
    "df.shape"
   ]
  },
  {
   "cell_type": "code",
   "execution_count": null,
   "id": "061d5961",
   "metadata": {},
   "outputs": [],
   "source": [
    "#Valores de las columnas\n",
    "df.columns"
   ]
  },
  {
   "cell_type": "code",
   "execution_count": null,
   "id": "9ce47121",
   "metadata": {},
   "outputs": [],
   "source": [
    "#Información de los datos\n",
    "df.info()"
   ]
  },
  {
   "cell_type": "code",
   "execution_count": null,
   "id": "5a944a54",
   "metadata": {},
   "outputs": [],
   "source": [
    "#estadistica descriptiva de los datos\n",
    "df.describe()"
   ]
  }
 ],
 "metadata": {
  "kernelspec": {
   "display_name": "Python 3 (ipykernel)",
   "language": "python",
   "name": "python3"
  },
  "language_info": {
   "codemirror_mode": {
    "name": "ipython",
    "version": 3
   },
   "file_extension": ".py",
   "mimetype": "text/x-python",
   "name": "python",
   "nbconvert_exporter": "python",
   "pygments_lexer": "ipython3",
   "version": "3.10.11"
  }
 },
 "nbformat": 4,
 "nbformat_minor": 5
}
