{
 "cells": [
  {
   "cell_type": "markdown",
   "id": "a502673e",
   "metadata": {},
   "source": [
    "Librerìas"
   ]
  },
  {
   "cell_type": "code",
   "execution_count": 1,
   "id": "33ba635a",
   "metadata": {},
   "outputs": [],
   "source": [
    "import pandas as pd\n",
    "from qgrid import show_grid"
   ]
  },
  {
   "cell_type": "markdown",
   "id": "38495e66",
   "metadata": {},
   "source": [
    "Archivo csv"
   ]
  },
  {
   "cell_type": "code",
   "execution_count": 2,
   "id": "42a4ccd4",
   "metadata": {},
   "outputs": [],
   "source": [
    "data=pd.read_csv('data/german_credit_data.csv',sep=',')"
   ]
  },
  {
   "cell_type": "code",
   "execution_count": 3,
   "id": "97efea84",
   "metadata": {},
   "outputs": [
    {
     "data": {
      "application/vnd.jupyter.widget-view+json": {
       "model_id": "9f769fb111b64e72b3fe750ef1be00a4",
       "version_major": 2,
       "version_minor": 0
      },
      "text/plain": [
       "QgridWidget(grid_options={'fullWidthRows': True, 'syncColumnCellResize': True, 'forceFitColumns': True, 'defau…"
      ]
     },
     "metadata": {},
     "output_type": "display_data"
    }
   ],
   "source": [
    "show_grid(data)"
   ]
  },
  {
   "cell_type": "markdown",
   "id": "5061a423",
   "metadata": {},
   "source": [
    "1.2 Estado de salud del dataframe"
   ]
  },
  {
   "cell_type": "code",
   "execution_count": 4,
   "id": "3d3ee288",
   "metadata": {},
   "outputs": [],
   "source": [
    "from funpymodeling.exploratory import freq_tbl,status,profiling_num"
   ]
  },
  {
   "cell_type": "code",
   "execution_count": 5,
   "id": "d98adf5c",
   "metadata": {},
   "outputs": [
    {
     "data": {
      "text/html": [
       "<div>\n",
       "<style scoped>\n",
       "    .dataframe tbody tr th:only-of-type {\n",
       "        vertical-align: middle;\n",
       "    }\n",
       "\n",
       "    .dataframe tbody tr th {\n",
       "        vertical-align: top;\n",
       "    }\n",
       "\n",
       "    .dataframe thead th {\n",
       "        text-align: right;\n",
       "    }\n",
       "</style>\n",
       "<table border=\"1\" class=\"dataframe\">\n",
       "  <thead>\n",
       "    <tr style=\"text-align: right;\">\n",
       "      <th></th>\n",
       "      <th>variable</th>\n",
       "      <th>q_nan</th>\n",
       "      <th>p_nan</th>\n",
       "      <th>q_zeros</th>\n",
       "      <th>p_zeros</th>\n",
       "      <th>unique</th>\n",
       "      <th>type</th>\n",
       "    </tr>\n",
       "  </thead>\n",
       "  <tbody>\n",
       "    <tr>\n",
       "      <th>0</th>\n",
       "      <td>Age</td>\n",
       "      <td>0</td>\n",
       "      <td>0.000</td>\n",
       "      <td>0</td>\n",
       "      <td>0.000</td>\n",
       "      <td>53</td>\n",
       "      <td>int64</td>\n",
       "    </tr>\n",
       "    <tr>\n",
       "      <th>1</th>\n",
       "      <td>Sex</td>\n",
       "      <td>0</td>\n",
       "      <td>0.000</td>\n",
       "      <td>0</td>\n",
       "      <td>0.000</td>\n",
       "      <td>2</td>\n",
       "      <td>object</td>\n",
       "    </tr>\n",
       "    <tr>\n",
       "      <th>2</th>\n",
       "      <td>Job</td>\n",
       "      <td>0</td>\n",
       "      <td>0.000</td>\n",
       "      <td>22</td>\n",
       "      <td>0.022</td>\n",
       "      <td>4</td>\n",
       "      <td>int64</td>\n",
       "    </tr>\n",
       "    <tr>\n",
       "      <th>3</th>\n",
       "      <td>Housing</td>\n",
       "      <td>0</td>\n",
       "      <td>0.000</td>\n",
       "      <td>0</td>\n",
       "      <td>0.000</td>\n",
       "      <td>3</td>\n",
       "      <td>object</td>\n",
       "    </tr>\n",
       "    <tr>\n",
       "      <th>4</th>\n",
       "      <td>Saving_accounts</td>\n",
       "      <td>183</td>\n",
       "      <td>0.183</td>\n",
       "      <td>0</td>\n",
       "      <td>0.000</td>\n",
       "      <td>4</td>\n",
       "      <td>object</td>\n",
       "    </tr>\n",
       "    <tr>\n",
       "      <th>5</th>\n",
       "      <td>Checking_account</td>\n",
       "      <td>394</td>\n",
       "      <td>0.394</td>\n",
       "      <td>0</td>\n",
       "      <td>0.000</td>\n",
       "      <td>3</td>\n",
       "      <td>object</td>\n",
       "    </tr>\n",
       "    <tr>\n",
       "      <th>6</th>\n",
       "      <td>Credit_amount</td>\n",
       "      <td>0</td>\n",
       "      <td>0.000</td>\n",
       "      <td>0</td>\n",
       "      <td>0.000</td>\n",
       "      <td>921</td>\n",
       "      <td>int64</td>\n",
       "    </tr>\n",
       "    <tr>\n",
       "      <th>7</th>\n",
       "      <td>Duration</td>\n",
       "      <td>0</td>\n",
       "      <td>0.000</td>\n",
       "      <td>0</td>\n",
       "      <td>0.000</td>\n",
       "      <td>33</td>\n",
       "      <td>int64</td>\n",
       "    </tr>\n",
       "    <tr>\n",
       "      <th>8</th>\n",
       "      <td>Purpose</td>\n",
       "      <td>0</td>\n",
       "      <td>0.000</td>\n",
       "      <td>0</td>\n",
       "      <td>0.000</td>\n",
       "      <td>8</td>\n",
       "      <td>object</td>\n",
       "    </tr>\n",
       "    <tr>\n",
       "      <th>9</th>\n",
       "      <td>Risk</td>\n",
       "      <td>0</td>\n",
       "      <td>0.000</td>\n",
       "      <td>0</td>\n",
       "      <td>0.000</td>\n",
       "      <td>2</td>\n",
       "      <td>object</td>\n",
       "    </tr>\n",
       "  </tbody>\n",
       "</table>\n",
       "</div>"
      ],
      "text/plain": [
       "           variable  q_nan  p_nan  q_zeros  p_zeros  unique    type\n",
       "0               Age      0  0.000        0    0.000      53   int64\n",
       "1               Sex      0  0.000        0    0.000       2  object\n",
       "2               Job      0  0.000       22    0.022       4   int64\n",
       "3           Housing      0  0.000        0    0.000       3  object\n",
       "4   Saving_accounts    183  0.183        0    0.000       4  object\n",
       "5  Checking_account    394  0.394        0    0.000       3  object\n",
       "6     Credit_amount      0  0.000        0    0.000     921   int64\n",
       "7          Duration      0  0.000        0    0.000      33   int64\n",
       "8           Purpose      0  0.000        0    0.000       8  object\n",
       "9              Risk      0  0.000        0    0.000       2  object"
      ]
     },
     "execution_count": 5,
     "metadata": {},
     "output_type": "execute_result"
    }
   ],
   "source": [
    "status(data)"
   ]
  },
  {
   "cell_type": "markdown",
   "id": "42bd7137",
   "metadata": {},
   "source": [
    "1.3 Variables Numèricas"
   ]
  },
  {
   "cell_type": "markdown",
   "id": "f9143ad5",
   "metadata": {},
   "source": [
    "Graficos/Histogramas"
   ]
  },
  {
   "cell_type": "code",
   "execution_count": 6,
   "id": "9d9e3953",
   "metadata": {},
   "outputs": [
    {
     "data": {
      "text/plain": [
       "array([[<AxesSubplot:title={'center':'Age'}>,\n",
       "        <AxesSubplot:title={'center':'Job'}>],\n",
       "       [<AxesSubplot:title={'center':'Credit_amount'}>,\n",
       "        <AxesSubplot:title={'center':'Duration'}>]], dtype=object)"
      ]
     },
     "execution_count": 6,
     "metadata": {},
     "output_type": "execute_result"
    },
    {
     "data": {
      "image/png": "[encoded data removed]",
      "text/plain": [
       "<Figure size 1000x1000 with 4 Axes>"
      ]
     },
     "metadata": {},
     "output_type": "display_data"
    }
   ],
   "source": [
    "data.hist(figsize=(10,10))"
   ]
  },
  {
   "cell_type": "code",
   "execution_count": 7,
   "id": "d89d9e51",
   "metadata": {},
   "outputs": [
    {
     "data": {
      "text/html": [
       "<div>\n",
       "<style scoped>\n",
       "    .dataframe tbody tr th:only-of-type {\n",
       "        vertical-align: middle;\n",
       "    }\n",
       "\n",
       "    .dataframe tbody tr th {\n",
       "        vertical-align: top;\n",
       "    }\n",
       "\n",
       "    .dataframe thead th {\n",
       "        text-align: right;\n",
       "    }\n",
       "</style>\n",
       "<table border=\"1\" class=\"dataframe\">\n",
       "  <thead>\n",
       "    <tr style=\"text-align: right;\">\n",
       "      <th></th>\n",
       "      <th>variable</th>\n",
       "      <th>q_nan</th>\n",
       "      <th>p_nan</th>\n",
       "      <th>q_zeros</th>\n",
       "      <th>p_zeros</th>\n",
       "      <th>unique</th>\n",
       "      <th>type</th>\n",
       "    </tr>\n",
       "  </thead>\n",
       "  <tbody>\n",
       "    <tr>\n",
       "      <th>0</th>\n",
       "      <td>Job</td>\n",
       "      <td>0</td>\n",
       "      <td>0.0</td>\n",
       "      <td>0</td>\n",
       "      <td>0.0</td>\n",
       "      <td>4</td>\n",
       "      <td>object</td>\n",
       "    </tr>\n",
       "  </tbody>\n",
       "</table>\n",
       "</div>"
      ],
      "text/plain": [
       "  variable  q_nan  p_nan  q_zeros  p_zeros  unique    type\n",
       "0      Job      0    0.0        0      0.0       4  object"
      ]
     },
     "execution_count": 7,
     "metadata": {},
     "output_type": "execute_result"
    }
   ],
   "source": [
    "data['Job']=data['Job'].astype('str')\n",
    "status(data['Job'])"
   ]
  },
  {
   "cell_type": "markdown",
   "id": "b24e9980",
   "metadata": {},
   "source": [
    "Analisis cuantitavivo/descripcion estadistica:"
   ]
  },
  {
   "cell_type": "code",
   "execution_count": 8,
   "id": "28b2bb8b",
   "metadata": {},
   "outputs": [
    {
     "data": {
      "text/html": [
       "<div>\n",
       "<style scoped>\n",
       "    .dataframe tbody tr th:only-of-type {\n",
       "        vertical-align: middle;\n",
       "    }\n",
       "\n",
       "    .dataframe tbody tr th {\n",
       "        vertical-align: top;\n",
       "    }\n",
       "\n",
       "    .dataframe thead th {\n",
       "        text-align: right;\n",
       "    }\n",
       "</style>\n",
       "<table border=\"1\" class=\"dataframe\">\n",
       "  <thead>\n",
       "    <tr style=\"text-align: right;\">\n",
       "      <th></th>\n",
       "      <th>variable</th>\n",
       "      <th>mean</th>\n",
       "      <th>std_dev</th>\n",
       "      <th>variation_coef</th>\n",
       "      <th>p_0.01</th>\n",
       "      <th>p_0.05</th>\n",
       "      <th>p_0.25</th>\n",
       "      <th>p_0.5</th>\n",
       "      <th>p_0.75</th>\n",
       "      <th>p_0.95</th>\n",
       "      <th>p_0.99</th>\n",
       "    </tr>\n",
       "  </thead>\n",
       "  <tbody>\n",
       "    <tr>\n",
       "      <th>0</th>\n",
       "      <td>Age</td>\n",
       "      <td>35.546</td>\n",
       "      <td>11.375469</td>\n",
       "      <td>0.320021</td>\n",
       "      <td>20.00</td>\n",
       "      <td>22.00</td>\n",
       "      <td>27.0</td>\n",
       "      <td>33.0</td>\n",
       "      <td>42.00</td>\n",
       "      <td>60.0</td>\n",
       "      <td>67.01</td>\n",
       "    </tr>\n",
       "    <tr>\n",
       "      <th>1</th>\n",
       "      <td>Credit_amount</td>\n",
       "      <td>3271.258</td>\n",
       "      <td>2822.736876</td>\n",
       "      <td>0.862890</td>\n",
       "      <td>425.83</td>\n",
       "      <td>708.95</td>\n",
       "      <td>1365.5</td>\n",
       "      <td>2319.5</td>\n",
       "      <td>3972.25</td>\n",
       "      <td>9162.7</td>\n",
       "      <td>14180.39</td>\n",
       "    </tr>\n",
       "    <tr>\n",
       "      <th>2</th>\n",
       "      <td>Duration</td>\n",
       "      <td>20.903</td>\n",
       "      <td>12.058814</td>\n",
       "      <td>0.576894</td>\n",
       "      <td>6.00</td>\n",
       "      <td>6.00</td>\n",
       "      <td>12.0</td>\n",
       "      <td>18.0</td>\n",
       "      <td>24.00</td>\n",
       "      <td>48.0</td>\n",
       "      <td>60.00</td>\n",
       "    </tr>\n",
       "  </tbody>\n",
       "</table>\n",
       "</div>"
      ],
      "text/plain": [
       "        variable      mean      std_dev  variation_coef  p_0.01  p_0.05  \\\n",
       "0            Age    35.546    11.375469        0.320021   20.00   22.00   \n",
       "1  Credit_amount  3271.258  2822.736876        0.862890  425.83  708.95   \n",
       "2       Duration    20.903    12.058814        0.576894    6.00    6.00   \n",
       "\n",
       "   p_0.25   p_0.5   p_0.75  p_0.95    p_0.99  \n",
       "0    27.0    33.0    42.00    60.0     67.01  \n",
       "1  1365.5  2319.5  3972.25  9162.7  14180.39  \n",
       "2    12.0    18.0    24.00    48.0     60.00  "
      ]
     },
     "execution_count": 8,
     "metadata": {},
     "output_type": "execute_result"
    }
   ],
   "source": [
    "profiling_num(data)"
   ]
  },
  {
   "cell_type": "markdown",
   "id": "5223bfbf",
   "metadata": {},
   "source": [
    "1.4 Analisis de variables categoricas"
   ]
  },
  {
   "cell_type": "code",
   "execution_count": 9,
   "id": "d9924eff",
   "metadata": {},
   "outputs": [
    {
     "data": {
      "text/html": [
       "<div>\n",
       "<style scoped>\n",
       "    .dataframe tbody tr th:only-of-type {\n",
       "        vertical-align: middle;\n",
       "    }\n",
       "\n",
       "    .dataframe tbody tr th {\n",
       "        vertical-align: top;\n",
       "    }\n",
       "\n",
       "    .dataframe thead th {\n",
       "        text-align: right;\n",
       "    }\n",
       "</style>\n",
       "<table border=\"1\" class=\"dataframe\">\n",
       "  <thead>\n",
       "    <tr style=\"text-align: right;\">\n",
       "      <th></th>\n",
       "      <th>Job</th>\n",
       "      <th>frequency</th>\n",
       "      <th>percentage</th>\n",
       "      <th>cumulative_perc</th>\n",
       "    </tr>\n",
       "  </thead>\n",
       "  <tbody>\n",
       "    <tr>\n",
       "      <th>0</th>\n",
       "      <td>2</td>\n",
       "      <td>630</td>\n",
       "      <td>0.630</td>\n",
       "      <td>0.630</td>\n",
       "    </tr>\n",
       "    <tr>\n",
       "      <th>1</th>\n",
       "      <td>1</td>\n",
       "      <td>200</td>\n",
       "      <td>0.200</td>\n",
       "      <td>0.830</td>\n",
       "    </tr>\n",
       "    <tr>\n",
       "      <th>2</th>\n",
       "      <td>3</td>\n",
       "      <td>148</td>\n",
       "      <td>0.148</td>\n",
       "      <td>0.978</td>\n",
       "    </tr>\n",
       "    <tr>\n",
       "      <th>3</th>\n",
       "      <td>0</td>\n",
       "      <td>22</td>\n",
       "      <td>0.022</td>\n",
       "      <td>1.000</td>\n",
       "    </tr>\n",
       "  </tbody>\n",
       "</table>\n",
       "</div>"
      ],
      "text/plain": [
       "  Job  frequency  percentage  cumulative_perc\n",
       "0   2        630       0.630            0.630\n",
       "1   1        200       0.200            0.830\n",
       "2   3        148       0.148            0.978\n",
       "3   0         22       0.022            1.000"
      ]
     },
     "execution_count": 9,
     "metadata": {},
     "output_type": "execute_result"
    }
   ],
   "source": [
    "freq_tbl(data['Job'])"
   ]
  },
  {
   "cell_type": "code",
   "execution_count": 10,
   "id": "a98816ef",
   "metadata": {},
   "outputs": [
    {
     "name": "stdout",
     "output_type": "stream",
     "text": [
      "      Sex  frequency  percentage  cumulative_perc\n",
      "0    male        690        0.69             0.69\n",
      "1  female        310        0.31             1.00\n",
      "\n",
      "----------------------------------------------------------------\n",
      "\n",
      "  Job  frequency  percentage  cumulative_perc\n",
      "0   2        630       0.630            0.630\n",
      "1   1        200       0.200            0.830\n",
      "2   3        148       0.148            0.978\n",
      "3   0         22       0.022            1.000\n",
      "\n",
      "----------------------------------------------------------------\n",
      "\n",
      "  Housing  frequency  percentage  cumulative_perc\n",
      "0     own        713       0.713            0.713\n",
      "1    rent        179       0.179            0.892\n",
      "2    free        108       0.108            1.000\n",
      "\n",
      "----------------------------------------------------------------\n",
      "\n",
      "  Saving_accounts  frequency  percentage  cumulative_perc\n",
      "0          little        603       0.603         0.738066\n",
      "1        moderate        103       0.103         0.864137\n",
      "2      quite rich         63       0.063         0.941248\n",
      "3            rich         48       0.048         1.000000\n",
      "\n",
      "----------------------------------------------------------------\n",
      "\n",
      "  Checking_account  frequency  percentage  cumulative_perc\n",
      "0           little        274       0.274         0.452145\n",
      "1         moderate        269       0.269         0.896040\n",
      "2             rich         63       0.063         1.000000\n",
      "\n",
      "----------------------------------------------------------------\n",
      "\n",
      "               Purpose  frequency  percentage  cumulative_perc\n",
      "0                  car        337       0.337            0.337\n",
      "1             radio/TV        280       0.280            0.617\n",
      "2  furniture/equipment        181       0.181            0.798\n",
      "3             business         97       0.097            0.895\n",
      "4            education         59       0.059            0.954\n",
      "5              repairs         22       0.022            0.976\n",
      "6  domestic appliances         12       0.012            0.988\n",
      "7      vacation/others         12       0.012            1.000\n",
      "\n",
      "----------------------------------------------------------------\n",
      "\n",
      "   Risk  frequency  percentage  cumulative_perc\n",
      "0  good        700         0.7              0.7\n",
      "1   bad        300         0.3              1.0\n",
      "\n",
      "----------------------------------------------------------------\n",
      "\n"
     ]
    }
   ],
   "source": [
    "freq_tbl(data)"
   ]
  },
  {
   "cell_type": "markdown",
   "id": "c18c9b15",
   "metadata": {},
   "source": [
    "Graficos de Barras"
   ]
  },
  {
   "cell_type": "code",
   "execution_count": 11,
   "id": "3496c91c",
   "metadata": {},
   "outputs": [],
   "source": [
    "from funpymodeling.exploratory import cat_vars,num_vars"
   ]
  },
  {
   "cell_type": "code",
   "execution_count": 12,
   "id": "99f52e98",
   "metadata": {},
   "outputs": [
    {
     "data": {
      "image/png": "[encoded data removed]",
      "text/plain": [
       "<Figure size 2000x2000 with 8 Axes>"
      ]
     },
     "metadata": {},
     "output_type": "display_data"
    }
   ],
   "source": [
    "import matplotlib.pyplot as plt\n",
    "import seaborn as sns\n",
    "d_plot=data\n",
    "fig,ax=plt.subplots(4,2,figsize=(20,20))\n",
    "for variable,subplot in zip(cat_vars(d_plot),ax.flatten()):\n",
    "    sns.countplot(y=d_plot[variable],ax=subplot,order=d_plot[variable].value_counts().index)\n",
    "    for label in subplot.get_xticklabels():\n",
    "        label.set_rotation(90)"
   ]
  },
  {
   "cell_type": "markdown",
   "id": "31e99589",
   "metadata": {},
   "source": [
    "2. Analisis Exploratorio de datos-Analisis Bivariado"
   ]
  },
  {
   "cell_type": "markdown",
   "id": "ca4e7ee1",
   "metadata": {},
   "source": [
    "2.A. Categorica vs categorica"
   ]
  },
  {
   "cell_type": "code",
   "execution_count": 13,
   "id": "9be4c8ba",
   "metadata": {},
   "outputs": [
    {
     "data": {
      "text/html": [
       "<div>\n",
       "<style scoped>\n",
       "    .dataframe tbody tr th:only-of-type {\n",
       "        vertical-align: middle;\n",
       "    }\n",
       "\n",
       "    .dataframe tbody tr th {\n",
       "        vertical-align: top;\n",
       "    }\n",
       "\n",
       "    .dataframe thead th {\n",
       "        text-align: right;\n",
       "    }\n",
       "</style>\n",
       "<table border=\"1\" class=\"dataframe\">\n",
       "  <thead>\n",
       "    <tr style=\"text-align: right;\">\n",
       "      <th>Risk</th>\n",
       "      <th>bad</th>\n",
       "      <th>good</th>\n",
       "    </tr>\n",
       "    <tr>\n",
       "      <th>Saving_accounts</th>\n",
       "      <th></th>\n",
       "      <th></th>\n",
       "    </tr>\n",
       "  </thead>\n",
       "  <tbody>\n",
       "    <tr>\n",
       "      <th>little</th>\n",
       "      <td>217</td>\n",
       "      <td>386</td>\n",
       "    </tr>\n",
       "    <tr>\n",
       "      <th>moderate</th>\n",
       "      <td>34</td>\n",
       "      <td>69</td>\n",
       "    </tr>\n",
       "    <tr>\n",
       "      <th>quite rich</th>\n",
       "      <td>11</td>\n",
       "      <td>52</td>\n",
       "    </tr>\n",
       "    <tr>\n",
       "      <th>rich</th>\n",
       "      <td>6</td>\n",
       "      <td>42</td>\n",
       "    </tr>\n",
       "  </tbody>\n",
       "</table>\n",
       "</div>"
      ],
      "text/plain": [
       "Risk             bad  good\n",
       "Saving_accounts           \n",
       "little           217   386\n",
       "moderate          34    69\n",
       "quite rich        11    52\n",
       "rich               6    42"
      ]
     },
     "execution_count": 13,
     "metadata": {},
     "output_type": "execute_result"
    }
   ],
   "source": [
    "pd.crosstab(data.Saving_accounts,data.Risk)"
   ]
  },
  {
   "cell_type": "code",
   "execution_count": 14,
   "id": "cbc76293",
   "metadata": {},
   "outputs": [
    {
     "data": {
      "text/html": [
       "<div>\n",
       "<style scoped>\n",
       "    .dataframe tbody tr th:only-of-type {\n",
       "        vertical-align: middle;\n",
       "    }\n",
       "\n",
       "    .dataframe tbody tr th {\n",
       "        vertical-align: top;\n",
       "    }\n",
       "\n",
       "    .dataframe thead th {\n",
       "        text-align: right;\n",
       "    }\n",
       "</style>\n",
       "<table border=\"1\" class=\"dataframe\">\n",
       "  <thead>\n",
       "    <tr style=\"text-align: right;\">\n",
       "      <th>Risk</th>\n",
       "      <th>bad</th>\n",
       "      <th>good</th>\n",
       "      <th>All</th>\n",
       "    </tr>\n",
       "    <tr>\n",
       "      <th>Saving_accounts</th>\n",
       "      <th></th>\n",
       "      <th></th>\n",
       "      <th></th>\n",
       "    </tr>\n",
       "  </thead>\n",
       "  <tbody>\n",
       "    <tr>\n",
       "      <th>little</th>\n",
       "      <td>217</td>\n",
       "      <td>386</td>\n",
       "      <td>603</td>\n",
       "    </tr>\n",
       "    <tr>\n",
       "      <th>moderate</th>\n",
       "      <td>34</td>\n",
       "      <td>69</td>\n",
       "      <td>103</td>\n",
       "    </tr>\n",
       "    <tr>\n",
       "      <th>quite rich</th>\n",
       "      <td>11</td>\n",
       "      <td>52</td>\n",
       "      <td>63</td>\n",
       "    </tr>\n",
       "    <tr>\n",
       "      <th>rich</th>\n",
       "      <td>6</td>\n",
       "      <td>42</td>\n",
       "      <td>48</td>\n",
       "    </tr>\n",
       "    <tr>\n",
       "      <th>All</th>\n",
       "      <td>268</td>\n",
       "      <td>549</td>\n",
       "      <td>817</td>\n",
       "    </tr>\n",
       "  </tbody>\n",
       "</table>\n",
       "</div>"
      ],
      "text/plain": [
       "Risk             bad  good  All\n",
       "Saving_accounts                \n",
       "little           217   386  603\n",
       "moderate          34    69  103\n",
       "quite rich        11    52   63\n",
       "rich               6    42   48\n",
       "All              268   549  817"
      ]
     },
     "execution_count": 14,
     "metadata": {},
     "output_type": "execute_result"
    }
   ],
   "source": [
    "pd.crosstab(data.Saving_accounts,data.Risk, margins=True)"
   ]
  },
  {
   "cell_type": "markdown",
   "id": "919630ff",
   "metadata": {},
   "source": [
    "Porcentages totales( suma de celdas 100%)"
   ]
  },
  {
   "cell_type": "code",
   "execution_count": 15,
   "id": "b73124d0",
   "metadata": {},
   "outputs": [
    {
     "data": {
      "text/html": [
       "<div>\n",
       "<style scoped>\n",
       "    .dataframe tbody tr th:only-of-type {\n",
       "        vertical-align: middle;\n",
       "    }\n",
       "\n",
       "    .dataframe tbody tr th {\n",
       "        vertical-align: top;\n",
       "    }\n",
       "\n",
       "    .dataframe thead th {\n",
       "        text-align: right;\n",
       "    }\n",
       "</style>\n",
       "<table border=\"1\" class=\"dataframe\">\n",
       "  <thead>\n",
       "    <tr style=\"text-align: right;\">\n",
       "      <th>Risk</th>\n",
       "      <th>bad</th>\n",
       "      <th>good</th>\n",
       "    </tr>\n",
       "    <tr>\n",
       "      <th>Saving_accounts</th>\n",
       "      <th></th>\n",
       "      <th></th>\n",
       "    </tr>\n",
       "  </thead>\n",
       "  <tbody>\n",
       "    <tr>\n",
       "      <th>little</th>\n",
       "      <td>0.265606</td>\n",
       "      <td>0.472460</td>\n",
       "    </tr>\n",
       "    <tr>\n",
       "      <th>moderate</th>\n",
       "      <td>0.041616</td>\n",
       "      <td>0.084455</td>\n",
       "    </tr>\n",
       "    <tr>\n",
       "      <th>quite rich</th>\n",
       "      <td>0.013464</td>\n",
       "      <td>0.063647</td>\n",
       "    </tr>\n",
       "    <tr>\n",
       "      <th>rich</th>\n",
       "      <td>0.007344</td>\n",
       "      <td>0.051408</td>\n",
       "    </tr>\n",
       "  </tbody>\n",
       "</table>\n",
       "</div>"
      ],
      "text/plain": [
       "Risk                  bad      good\n",
       "Saving_accounts                    \n",
       "little           0.265606  0.472460\n",
       "moderate         0.041616  0.084455\n",
       "quite rich       0.013464  0.063647\n",
       "rich             0.007344  0.051408"
      ]
     },
     "execution_count": 15,
     "metadata": {},
     "output_type": "execute_result"
    }
   ],
   "source": [
    "pd.crosstab(data.Saving_accounts,data.Risk,normalize=True)"
   ]
  },
  {
   "cell_type": "markdown",
   "id": "43dc7342",
   "metadata": {},
   "source": [
    "Porcentages por registro(util para selecciòn de variables)"
   ]
  },
  {
   "cell_type": "code",
   "execution_count": 16,
   "id": "da49beb7",
   "metadata": {},
   "outputs": [
    {
     "data": {
      "text/html": [
       "<div>\n",
       "<style scoped>\n",
       "    .dataframe tbody tr th:only-of-type {\n",
       "        vertical-align: middle;\n",
       "    }\n",
       "\n",
       "    .dataframe tbody tr th {\n",
       "        vertical-align: top;\n",
       "    }\n",
       "\n",
       "    .dataframe thead th {\n",
       "        text-align: right;\n",
       "    }\n",
       "</style>\n",
       "<table border=\"1\" class=\"dataframe\">\n",
       "  <thead>\n",
       "    <tr style=\"text-align: right;\">\n",
       "      <th>Risk</th>\n",
       "      <th>bad</th>\n",
       "      <th>good</th>\n",
       "    </tr>\n",
       "    <tr>\n",
       "      <th>Saving_accounts</th>\n",
       "      <th></th>\n",
       "      <th></th>\n",
       "    </tr>\n",
       "  </thead>\n",
       "  <tbody>\n",
       "    <tr>\n",
       "      <th>little</th>\n",
       "      <td>0.359867</td>\n",
       "      <td>0.640133</td>\n",
       "    </tr>\n",
       "    <tr>\n",
       "      <th>moderate</th>\n",
       "      <td>0.330097</td>\n",
       "      <td>0.669903</td>\n",
       "    </tr>\n",
       "    <tr>\n",
       "      <th>quite rich</th>\n",
       "      <td>0.174603</td>\n",
       "      <td>0.825397</td>\n",
       "    </tr>\n",
       "    <tr>\n",
       "      <th>rich</th>\n",
       "      <td>0.125000</td>\n",
       "      <td>0.875000</td>\n",
       "    </tr>\n",
       "    <tr>\n",
       "      <th>All</th>\n",
       "      <td>0.328029</td>\n",
       "      <td>0.671971</td>\n",
       "    </tr>\n",
       "  </tbody>\n",
       "</table>\n",
       "</div>"
      ],
      "text/plain": [
       "Risk                  bad      good\n",
       "Saving_accounts                    \n",
       "little           0.359867  0.640133\n",
       "moderate         0.330097  0.669903\n",
       "quite rich       0.174603  0.825397\n",
       "rich             0.125000  0.875000\n",
       "All              0.328029  0.671971"
      ]
     },
     "execution_count": 16,
     "metadata": {},
     "output_type": "execute_result"
    }
   ],
   "source": [
    "pd.crosstab(data.Saving_accounts,data.Risk, normalize='index',margins=True)"
   ]
  },
  {
   "cell_type": "markdown",
   "id": "ee086b0a",
   "metadata": {},
   "source": [
    "Evitar sesgos por representatividad(caso rich"
   ]
  },
  {
   "cell_type": "code",
   "execution_count": 17,
   "id": "f7ebd460",
   "metadata": {},
   "outputs": [
    {
     "data": {
      "text/html": [
       "<div>\n",
       "<style scoped>\n",
       "    .dataframe tbody tr th:only-of-type {\n",
       "        vertical-align: middle;\n",
       "    }\n",
       "\n",
       "    .dataframe tbody tr th {\n",
       "        vertical-align: top;\n",
       "    }\n",
       "\n",
       "    .dataframe thead th {\n",
       "        text-align: right;\n",
       "    }\n",
       "</style>\n",
       "<table border=\"1\" class=\"dataframe\">\n",
       "  <thead>\n",
       "    <tr style=\"text-align: right;\">\n",
       "      <th>Risk</th>\n",
       "      <th>bad</th>\n",
       "      <th>good</th>\n",
       "      <th>All</th>\n",
       "    </tr>\n",
       "    <tr>\n",
       "      <th>Saving_accounts</th>\n",
       "      <th></th>\n",
       "      <th></th>\n",
       "      <th></th>\n",
       "    </tr>\n",
       "  </thead>\n",
       "  <tbody>\n",
       "    <tr>\n",
       "      <th>little</th>\n",
       "      <td>0.265606</td>\n",
       "      <td>0.472460</td>\n",
       "      <td>0.738066</td>\n",
       "    </tr>\n",
       "    <tr>\n",
       "      <th>moderate</th>\n",
       "      <td>0.041616</td>\n",
       "      <td>0.084455</td>\n",
       "      <td>0.126071</td>\n",
       "    </tr>\n",
       "    <tr>\n",
       "      <th>quite rich</th>\n",
       "      <td>0.013464</td>\n",
       "      <td>0.063647</td>\n",
       "      <td>0.077111</td>\n",
       "    </tr>\n",
       "    <tr>\n",
       "      <th>rich</th>\n",
       "      <td>0.007344</td>\n",
       "      <td>0.051408</td>\n",
       "      <td>0.058752</td>\n",
       "    </tr>\n",
       "    <tr>\n",
       "      <th>All</th>\n",
       "      <td>0.328029</td>\n",
       "      <td>0.671971</td>\n",
       "      <td>1.000000</td>\n",
       "    </tr>\n",
       "  </tbody>\n",
       "</table>\n",
       "</div>"
      ],
      "text/plain": [
       "Risk                  bad      good       All\n",
       "Saving_accounts                              \n",
       "little           0.265606  0.472460  0.738066\n",
       "moderate         0.041616  0.084455  0.126071\n",
       "quite rich       0.013464  0.063647  0.077111\n",
       "rich             0.007344  0.051408  0.058752\n",
       "All              0.328029  0.671971  1.000000"
      ]
     },
     "execution_count": 17,
     "metadata": {},
     "output_type": "execute_result"
    }
   ],
   "source": [
    "pd.crosstab(data['Saving_accounts'],data['Risk'],margins=True, normalize=True)"
   ]
  },
  {
   "cell_type": "markdown",
   "id": "e94881ad",
   "metadata": {},
   "source": [
    "2.B. Analisis de numèrica vs catègorico"
   ]
  },
  {
   "cell_type": "code",
   "execution_count": 18,
   "id": "efefba6c",
   "metadata": {},
   "outputs": [
    {
     "data": {
      "text/plain": [
       "Purpose\n",
       "business               35.484536\n",
       "car                    37.139466\n",
       "domestic appliances    34.250000\n",
       "education              38.288136\n",
       "furniture/equipment    32.458564\n",
       "radio/TV               34.700000\n",
       "repairs                38.545455\n",
       "vacation/others        39.916667\n",
       "Name: Age, dtype: float64"
      ]
     },
     "execution_count": 18,
     "metadata": {},
     "output_type": "execute_result"
    }
   ],
   "source": [
    "data.groupby('Purpose')['Age'].mean()"
   ]
  },
  {
   "cell_type": "code",
   "execution_count": 19,
   "id": "2451362f",
   "metadata": {},
   "outputs": [
    {
     "data": {
      "text/plain": [
       "Purpose\n",
       "vacation/others        39.916667\n",
       "repairs                38.545455\n",
       "education              38.288136\n",
       "car                    37.139466\n",
       "business               35.484536\n",
       "radio/TV               34.700000\n",
       "domestic appliances    34.250000\n",
       "furniture/equipment    32.458564\n",
       "Name: Age, dtype: float64"
      ]
     },
     "execution_count": 19,
     "metadata": {},
     "output_type": "execute_result"
    }
   ],
   "source": [
    "data.groupby('Purpose')['Age'].mean().sort_values(ascending=False)"
   ]
  },
  {
   "cell_type": "code",
   "execution_count": 20,
   "id": "74d0f00e",
   "metadata": {},
   "outputs": [
    {
     "data": {
      "text/html": [
       "<div>\n",
       "<style scoped>\n",
       "    .dataframe tbody tr th:only-of-type {\n",
       "        vertical-align: middle;\n",
       "    }\n",
       "\n",
       "    .dataframe tbody tr th {\n",
       "        vertical-align: top;\n",
       "    }\n",
       "\n",
       "    .dataframe thead th {\n",
       "        text-align: right;\n",
       "    }\n",
       "</style>\n",
       "<table border=\"1\" class=\"dataframe\">\n",
       "  <thead>\n",
       "    <tr style=\"text-align: right;\">\n",
       "      <th></th>\n",
       "      <th>count</th>\n",
       "      <th>mean</th>\n",
       "      <th>std</th>\n",
       "      <th>min</th>\n",
       "      <th>25%</th>\n",
       "      <th>50%</th>\n",
       "      <th>75%</th>\n",
       "      <th>max</th>\n",
       "    </tr>\n",
       "    <tr>\n",
       "      <th>Purpose</th>\n",
       "      <th></th>\n",
       "      <th></th>\n",
       "      <th></th>\n",
       "      <th></th>\n",
       "      <th></th>\n",
       "      <th></th>\n",
       "      <th></th>\n",
       "      <th></th>\n",
       "    </tr>\n",
       "  </thead>\n",
       "  <tbody>\n",
       "    <tr>\n",
       "      <th>business</th>\n",
       "      <td>97.0</td>\n",
       "      <td>35.484536</td>\n",
       "      <td>11.401858</td>\n",
       "      <td>21.0</td>\n",
       "      <td>27.0</td>\n",
       "      <td>33.0</td>\n",
       "      <td>39.00</td>\n",
       "      <td>74.0</td>\n",
       "    </tr>\n",
       "    <tr>\n",
       "      <th>car</th>\n",
       "      <td>337.0</td>\n",
       "      <td>37.139466</td>\n",
       "      <td>11.649960</td>\n",
       "      <td>20.0</td>\n",
       "      <td>28.0</td>\n",
       "      <td>35.0</td>\n",
       "      <td>43.00</td>\n",
       "      <td>75.0</td>\n",
       "    </tr>\n",
       "    <tr>\n",
       "      <th>domestic appliances</th>\n",
       "      <td>12.0</td>\n",
       "      <td>34.250000</td>\n",
       "      <td>13.376540</td>\n",
       "      <td>22.0</td>\n",
       "      <td>24.0</td>\n",
       "      <td>28.0</td>\n",
       "      <td>39.50</td>\n",
       "      <td>62.0</td>\n",
       "    </tr>\n",
       "    <tr>\n",
       "      <th>education</th>\n",
       "      <td>59.0</td>\n",
       "      <td>38.288136</td>\n",
       "      <td>11.555042</td>\n",
       "      <td>21.0</td>\n",
       "      <td>30.5</td>\n",
       "      <td>36.0</td>\n",
       "      <td>46.50</td>\n",
       "      <td>67.0</td>\n",
       "    </tr>\n",
       "    <tr>\n",
       "      <th>furniture/equipment</th>\n",
       "      <td>181.0</td>\n",
       "      <td>32.458564</td>\n",
       "      <td>9.747632</td>\n",
       "      <td>19.0</td>\n",
       "      <td>25.0</td>\n",
       "      <td>30.0</td>\n",
       "      <td>39.00</td>\n",
       "      <td>63.0</td>\n",
       "    </tr>\n",
       "    <tr>\n",
       "      <th>radio/TV</th>\n",
       "      <td>280.0</td>\n",
       "      <td>34.700000</td>\n",
       "      <td>11.142736</td>\n",
       "      <td>20.0</td>\n",
       "      <td>26.0</td>\n",
       "      <td>32.0</td>\n",
       "      <td>40.25</td>\n",
       "      <td>67.0</td>\n",
       "    </tr>\n",
       "    <tr>\n",
       "      <th>repairs</th>\n",
       "      <td>22.0</td>\n",
       "      <td>38.545455</td>\n",
       "      <td>14.879603</td>\n",
       "      <td>22.0</td>\n",
       "      <td>25.5</td>\n",
       "      <td>33.5</td>\n",
       "      <td>48.00</td>\n",
       "      <td>67.0</td>\n",
       "    </tr>\n",
       "    <tr>\n",
       "      <th>vacation/others</th>\n",
       "      <td>12.0</td>\n",
       "      <td>39.916667</td>\n",
       "      <td>11.325421</td>\n",
       "      <td>27.0</td>\n",
       "      <td>30.5</td>\n",
       "      <td>39.5</td>\n",
       "      <td>45.00</td>\n",
       "      <td>60.0</td>\n",
       "    </tr>\n",
       "  </tbody>\n",
       "</table>\n",
       "</div>"
      ],
      "text/plain": [
       "                     count       mean        std   min   25%   50%    75%  \\\n",
       "Purpose                                                                     \n",
       "business              97.0  35.484536  11.401858  21.0  27.0  33.0  39.00   \n",
       "car                  337.0  37.139466  11.649960  20.0  28.0  35.0  43.00   \n",
       "domestic appliances   12.0  34.250000  13.376540  22.0  24.0  28.0  39.50   \n",
       "education             59.0  38.288136  11.555042  21.0  30.5  36.0  46.50   \n",
       "furniture/equipment  181.0  32.458564   9.747632  19.0  25.0  30.0  39.00   \n",
       "radio/TV             280.0  34.700000  11.142736  20.0  26.0  32.0  40.25   \n",
       "repairs               22.0  38.545455  14.879603  22.0  25.5  33.5  48.00   \n",
       "vacation/others       12.0  39.916667  11.325421  27.0  30.5  39.5  45.00   \n",
       "\n",
       "                      max  \n",
       "Purpose                    \n",
       "business             74.0  \n",
       "car                  75.0  \n",
       "domestic appliances  62.0  \n",
       "education            67.0  \n",
       "furniture/equipment  63.0  \n",
       "radio/TV             67.0  \n",
       "repairs              67.0  \n",
       "vacation/others      60.0  "
      ]
     },
     "execution_count": 20,
     "metadata": {},
     "output_type": "execute_result"
    }
   ],
   "source": [
    "data.groupby('Purpose')['Age'].describe()"
   ]
  },
  {
   "cell_type": "code",
   "execution_count": 21,
   "id": "a1e14991",
   "metadata": {},
   "outputs": [
    {
     "name": "stderr",
     "output_type": "stream",
     "text": [
      "/tmp/ipykernel_5973/1312397723.py:1: FutureWarning: The default value of numeric_only in DataFrameGroupBy.mean is deprecated. In a future version, numeric_only will default to False. Either specify numeric_only or select only columns which should be valid for the function.\n",
      "  data.groupby('Risk').mean()\n"
     ]
    },
    {
     "data": {
      "text/html": [
       "<div>\n",
       "<style scoped>\n",
       "    .dataframe tbody tr th:only-of-type {\n",
       "        vertical-align: middle;\n",
       "    }\n",
       "\n",
       "    .dataframe tbody tr th {\n",
       "        vertical-align: top;\n",
       "    }\n",
       "\n",
       "    .dataframe thead th {\n",
       "        text-align: right;\n",
       "    }\n",
       "</style>\n",
       "<table border=\"1\" class=\"dataframe\">\n",
       "  <thead>\n",
       "    <tr style=\"text-align: right;\">\n",
       "      <th></th>\n",
       "      <th>Age</th>\n",
       "      <th>Credit_amount</th>\n",
       "      <th>Duration</th>\n",
       "    </tr>\n",
       "    <tr>\n",
       "      <th>Risk</th>\n",
       "      <th></th>\n",
       "      <th></th>\n",
       "      <th></th>\n",
       "    </tr>\n",
       "  </thead>\n",
       "  <tbody>\n",
       "    <tr>\n",
       "      <th>bad</th>\n",
       "      <td>33.963333</td>\n",
       "      <td>3938.126667</td>\n",
       "      <td>24.860000</td>\n",
       "    </tr>\n",
       "    <tr>\n",
       "      <th>good</th>\n",
       "      <td>36.224286</td>\n",
       "      <td>2985.457143</td>\n",
       "      <td>19.207143</td>\n",
       "    </tr>\n",
       "  </tbody>\n",
       "</table>\n",
       "</div>"
      ],
      "text/plain": [
       "            Age  Credit_amount   Duration\n",
       "Risk                                     \n",
       "bad   33.963333    3938.126667  24.860000\n",
       "good  36.224286    2985.457143  19.207143"
      ]
     },
     "execution_count": 21,
     "metadata": {},
     "output_type": "execute_result"
    }
   ],
   "source": [
    "data.groupby('Risk').mean()"
   ]
  },
  {
   "cell_type": "markdown",
   "id": "583c36bc",
   "metadata": {},
   "source": [
    "2.C. Analisis de numèrica vs. numèrica"
   ]
  },
  {
   "cell_type": "markdown",
   "id": "a105799f",
   "metadata": {},
   "source": [
    "3.GRAFICOS EN ANÀLISIS EXPLORATORIO DE DATOS BIVARIADO"
   ]
  },
  {
   "cell_type": "markdown",
   "id": "c36b40db",
   "metadata": {},
   "source": [
    "3.A. Analisis de numèrica vs. categòrica"
   ]
  },
  {
   "cell_type": "code",
   "execution_count": 22,
   "id": "53230552",
   "metadata": {},
   "outputs": [
    {
     "data": {
      "text/plain": [
       "<AxesSubplot:xlabel='Purpose', ylabel='Age'>"
      ]
     },
     "execution_count": 22,
     "metadata": {},
     "output_type": "execute_result"
    },
    {
     "data": {
      "image/png": "[encoded data removed]",
      "text/plain": [
       "<Figure size 640x480 with 1 Axes>"
      ]
     },
     "metadata": {},
     "output_type": "display_data"
    }
   ],
   "source": [
    "import seaborn as sns\n",
    "sns.boxplot(y='Age',x='Purpose',data=data)"
   ]
  },
  {
   "cell_type": "code",
   "execution_count": null,
   "id": "caa87403",
   "metadata": {},
   "outputs": [],
   "source": []
  },
  {
   "cell_type": "code",
   "execution_count": 23,
   "id": "2f5b60d5",
   "metadata": {},
   "outputs": [
    {
     "data": {
      "text/plain": [
       "<AxesSubplot:xlabel='Purpose', ylabel='Age'>"
      ]
     },
     "execution_count": 23,
     "metadata": {},
     "output_type": "execute_result"
    },
    {
     "data": {
      "image/png": "[encoded data removed]",
      "text/plain": [
       "<Figure size 640x480 with 1 Axes>"
      ]
     },
     "metadata": {},
     "output_type": "display_data"
    }
   ],
   "source": [
    "sns.violinplot(y='Age',x='Purpose',data=data)"
   ]
  },
  {
   "cell_type": "markdown",
   "id": "2bc6e1ec",
   "metadata": {},
   "source": [
    "3.B. Anàlisis de categòrica vs. categòrica"
   ]
  },
  {
   "cell_type": "code",
   "execution_count": 24,
   "id": "d9fe5f60",
   "metadata": {},
   "outputs": [
    {
     "data": {
      "image/png": "[encoded data removed]",
      "text/plain": [
       "<Figure size 1000x500 with 2 Axes>"
      ]
     },
     "metadata": {},
     "output_type": "display_data"
    }
   ],
   "source": [
    "g=sns.catplot(x='Housing',\n",
    "             col='Risk',\n",
    "             data=data,\n",
    "             kind='count')"
   ]
  },
  {
   "cell_type": "markdown",
   "id": "da96dc85",
   "metadata": {},
   "source": []
  }
 ],
 "metadata": {
  "kernelspec": {
   "display_name": "Python 3 (ipykernel)",
   "language": "python",
   "name": "python3"
  },
  "language_info": {
   "codemirror_mode": {
    "name": "ipython",
    "version": 3
   },
   "file_extension": ".py",
   "mimetype": "text/x-python",
   "name": "python",
   "nbconvert_exporter": "python",
   "pygments_lexer": "ipython3",
   "version": "3.10.11"
  }
 },
 "nbformat": 4,
 "nbformat_minor": 5
}
